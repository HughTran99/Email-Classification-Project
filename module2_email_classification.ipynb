{
  "nbformat": 4,
  "nbformat_minor": 0,
  "metadata": {
    "colab": {
      "provenance": []
    },
    "kernelspec": {
      "name": "python3",
      "display_name": "Python 3"
    },
    "language_info": {
      "name": "python"
    }
  },
  "cells": [
    {
      "cell_type": "code",
      "execution_count": null,
      "metadata": {
        "colab": {
          "base_uri": "https://localhost:8080/"
        },
        "id": "BCoR2EI2P4lg",
        "outputId": "43a4b4c7-3845-46f5-b3ae-a308c8ccf815"
      },
      "outputs": [
        {
          "output_type": "stream",
          "name": "stdout",
          "text": [
            "Downloading...\n",
            "From: https://drive.google.com/uc?id=1N7rk-kfnDFIGMeX0ROVTjKh71gcgx-7R\n",
            "To: /content/2cls_spam_text_cls.csv\n",
            "\r  0% 0.00/486k [00:00<?, ?B/s]\r100% 486k/486k [00:00<00:00, 92.3MB/s]\n"
          ]
        }
      ],
      "source": [
        "import gdown\n",
        "!gdown 1N7rk-kfnDFIGMeX0ROVTjKh71gcgx-7R"
      ]
    },
    {
      "cell_type": "code",
      "source": [
        "import string\n",
        "import nltk\n",
        "nltk.download(\"stopwords\")\n",
        "nltk.download(\"punkt\")\n",
        "import pandas as pd\n",
        "import numpy as np\n",
        "import matplotlib.pyplot as plt\n",
        "\n",
        "from sklearn.model_selection import train_test_split\n",
        "from sklearn.naive_bayes import GaussianNB\n",
        "from sklearn.metrics import accuracy_score\n",
        "from sklearn.preprocessing import LabelEncoder"
      ],
      "metadata": {
        "colab": {
          "base_uri": "https://localhost:8080/"
        },
        "id": "q-y20D7dRE3q",
        "outputId": "96b351d5-37d6-43da-f458-e516e38e1d4a"
      },
      "execution_count": null,
      "outputs": [
        {
          "output_type": "stream",
          "name": "stderr",
          "text": [
            "[nltk_data] Downloading package stopwords to /root/nltk_data...\n",
            "[nltk_data]   Unzipping corpora/stopwords.zip.\n",
            "[nltk_data] Downloading package punkt to /root/nltk_data...\n",
            "[nltk_data]   Unzipping tokenizers/punkt.zip.\n"
          ]
        }
      ]
    },
    {
      "cell_type": "code",
      "source": [
        "DATASET_PATH = \"/content/2cls_spam_text_cls.csv\"\n",
        "df = pd.read_csv(DATASET_PATH)\n",
        "\n",
        "messages = df[\"Message\"].values.tolist()\n",
        "labels = df[\"Category\"].values.tolist()"
      ],
      "metadata": {
        "id": "oA_0_BeYRmlw"
      },
      "execution_count": null,
      "outputs": []
    },
    {
      "cell_type": "code",
      "source": [
        "# Preprocessing data\n",
        "def lowercase(text):\n",
        "    return text.lower()\n",
        "\n",
        "def punctuation_removal(text):\n",
        "    translator = str.maketrans(\"\", \"\", string.punctuation)\n",
        "    return text.translate(translator)\n",
        "\n",
        "def tokenize(text):\n",
        "    return nltk.word_tokenize(text)\n",
        "\n",
        "def remove_stopwords(tokens):\n",
        "    stop_words = nltk.corpus.stopwords.words(\"english\")\n",
        "    return [token for token in tokens if token not in stop_words]\n",
        "\n",
        "def stemming(tokens):\n",
        "    stemmer = nltk.PorterStemmer()\n",
        "    return [stemmer.stem(token) for token in tokens]\n",
        "\n",
        "def preprocess_text(text):\n",
        "    text = lowercase(text)\n",
        "    text = punctuation_removal(text)\n",
        "    tokens = tokenize(text)\n",
        "    tokens = remove_stopwords(tokens)\n",
        "    tokens = stemming(tokens)\n",
        "    return tokens\n",
        "\n",
        "messages = [preprocess_text(message) for message in messages]"
      ],
      "metadata": {
        "id": "mJxQkk0FSaay"
      },
      "execution_count": null,
      "outputs": []
    },
    {
      "cell_type": "code",
      "source": [
        "def create_dictionary(messages):\n",
        "    dictionary = []\n",
        "\n",
        "    for tokens in messages:\n",
        "        for token in tokens:\n",
        "            if token not in dictionary:\n",
        "                dictionary.append(token)\n",
        "\n",
        "    return dictionary\n",
        "\n",
        "dictionary = create_dictionary(messages)"
      ],
      "metadata": {
        "id": "DRSRvq-UUfiU"
      },
      "execution_count": null,
      "outputs": []
    },
    {
      "cell_type": "code",
      "source": [
        "def create_features(tokens, dictionary):\n",
        "    features = np.zeros(len(dictionary))\n",
        "\n",
        "    for token in tokens:\n",
        "        if token in dictionary:\n",
        "            features[dictionary.index(token)] += 1\n",
        "\n",
        "    return features\n",
        "\n",
        "\n",
        "X = np.array([create_features(tokens, dictionary) for tokens in messages])"
      ],
      "metadata": {
        "id": "OFifXvfXUsHI"
      },
      "execution_count": null,
      "outputs": []
    },
    {
      "cell_type": "code",
      "source": [
        "le = LabelEncoder()\n",
        "y = le.fit_transform(labels)\n",
        "print(f\"Classes: {le.classes_}\")\n",
        "print(f\"Encoded labels: {y}\")"
      ],
      "metadata": {
        "colab": {
          "base_uri": "https://localhost:8080/"
        },
        "id": "ywhzkZExU_mQ",
        "outputId": "c52e9fd4-d850-4572-c944-b31cb944935f"
      },
      "execution_count": null,
      "outputs": [
        {
          "output_type": "stream",
          "name": "stdout",
          "text": [
            "Classes: ['ham' 'spam']\n",
            "Encoded labels: [0 0 1 ... 0 0 0]\n"
          ]
        }
      ]
    },
    {
      "cell_type": "code",
      "source": [
        "VAL_SIZE = 0.2\n",
        "TEST_SIZE = 0.125\n",
        "SEED = 0\n",
        "\n",
        "X_train, X_val, y_train, y_val = train_test_split(X, y,\n",
        "                                                  test_size=VAL_SIZE,\n",
        "                                                  shuffle=True,\n",
        "                                                  random_state=SEED)\n",
        "\n",
        "X_train, X_test, y_train, y_test = train_test_split(X_train, y_train,\n",
        "                                                  test_size=TEST_SIZE,\n",
        "                                                  shuffle=True,\n",
        "                                                  random_state=SEED)"
      ],
      "metadata": {
        "id": "Y3ZgZMsfV5ZQ"
      },
      "execution_count": null,
      "outputs": []
    },
    {
      "cell_type": "code",
      "source": [
        "model = GaussianNB()\n",
        "print(\"Start training...\")\n",
        "model = model.fit(X_train, y_train)\n",
        "print(\"Training completed!\")"
      ],
      "metadata": {
        "colab": {
          "base_uri": "https://localhost:8080/"
        },
        "id": "DtFRi9usWvQ2",
        "outputId": "7d3ccbb1-aeb8-4efa-e581-a591e7ea6cf7"
      },
      "execution_count": null,
      "outputs": [
        {
          "output_type": "stream",
          "name": "stdout",
          "text": [
            "Start training...\n",
            "Training completed!\n"
          ]
        }
      ]
    },
    {
      "cell_type": "code",
      "source": [
        "y_val_pred = model.predict(X_val)\n",
        "y_test_pred = model.predict(X_test)\n",
        "\n",
        "val_accuracy = accuracy_score(y_val, y_val_pred)\n",
        "test_accuracy = accuracy_score(y_test, y_test_pred)\n",
        "\n",
        "print(f\"Val accuracy: {val_accuracy}\")\n",
        "print(f\"Test accuracy: {test_accuracy}\")"
      ],
      "metadata": {
        "colab": {
          "base_uri": "https://localhost:8080/"
        },
        "id": "i49sJ5zjXYx-",
        "outputId": "3de6d2b1-b267-43c9-e652-82a7b9e0bc74"
      },
      "execution_count": null,
      "outputs": [
        {
          "output_type": "stream",
          "name": "stdout",
          "text": [
            "Val accuracy: 0.8816143497757848\n",
            "Test accuracy: 0.8602150537634409\n"
          ]
        }
      ]
    },
    {
      "cell_type": "code",
      "source": [
        "def predict(text, model, dictionary):\n",
        "    processed_text = preprocess_text(text)\n",
        "    features = create_features(text, dictionary)\n",
        "    features = np.array(features).reshape(1, -1)\n",
        "    prediction = model.predict(features)\n",
        "    prediction_cls = le.inverse_transform(prediction)[0]\n",
        "\n",
        "    return prediction_cls\n",
        "\n",
        "\n",
        "test_input = \"I am actually thinking a way of doing something useful\"\n",
        "prediction_cls = predict(test_input, model, dictionary)\n",
        "print(f\"Prediction: {prediction_cls}\")"
      ],
      "metadata": {
        "colab": {
          "base_uri": "https://localhost:8080/"
        },
        "id": "aXmX7pTSXwfg",
        "outputId": "2c405165-dee5-4846-9e6f-c5a2d0178fcb"
      },
      "execution_count": null,
      "outputs": [
        {
          "output_type": "stream",
          "name": "stdout",
          "text": [
            "Prediction: ham\n"
          ]
        }
      ]
    }
  ]
}